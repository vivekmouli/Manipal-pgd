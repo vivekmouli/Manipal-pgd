{
 "cells": [
  {
   "cell_type": "code",
   "execution_count": 1,
   "metadata": {},
   "outputs": [],
   "source": [
    "import pandas as pd\n",
    "import numpy as np\n",
    "import matplotlib.pyplot as plt\n",
    "%matplotlib inline"
   ]
  },
  {
   "cell_type": "markdown",
   "metadata": {},
   "source": [
    "## Data\n",
    "\n",
    "data set: https://fred.stlouisfed.org/series/IPN31152N\n"
   ]
  },
  {
   "cell_type": "code",
   "execution_count": 2,
   "metadata": {},
   "outputs": [
    {
     "data": {
      "text/html": [
       "<div>\n",
       "<style scoped>\n",
       "    .dataframe tbody tr th:only-of-type {\n",
       "        vertical-align: middle;\n",
       "    }\n",
       "\n",
       "    .dataframe tbody tr th {\n",
       "        vertical-align: top;\n",
       "    }\n",
       "\n",
       "    .dataframe thead th {\n",
       "        text-align: right;\n",
       "    }\n",
       "</style>\n",
       "<table border=\"1\" class=\"dataframe\">\n",
       "  <thead>\n",
       "    <tr style=\"text-align: right;\">\n",
       "      <th></th>\n",
       "      <th>DATE</th>\n",
       "      <th>IPN31152N</th>\n",
       "    </tr>\n",
       "  </thead>\n",
       "  <tbody>\n",
       "    <tr>\n",
       "      <th>0</th>\n",
       "      <td>1972-01-01</td>\n",
       "      <td>59.9622</td>\n",
       "    </tr>\n",
       "    <tr>\n",
       "      <th>1</th>\n",
       "      <td>1972-02-01</td>\n",
       "      <td>67.0605</td>\n",
       "    </tr>\n",
       "    <tr>\n",
       "      <th>2</th>\n",
       "      <td>1972-03-01</td>\n",
       "      <td>74.2350</td>\n",
       "    </tr>\n",
       "    <tr>\n",
       "      <th>3</th>\n",
       "      <td>1972-04-01</td>\n",
       "      <td>78.1120</td>\n",
       "    </tr>\n",
       "    <tr>\n",
       "      <th>4</th>\n",
       "      <td>1972-05-01</td>\n",
       "      <td>84.7636</td>\n",
       "    </tr>\n",
       "  </tbody>\n",
       "</table>\n",
       "</div>"
      ],
      "text/plain": [
       "         DATE  IPN31152N\n",
       "0  1972-01-01    59.9622\n",
       "1  1972-02-01    67.0605\n",
       "2  1972-03-01    74.2350\n",
       "3  1972-04-01    78.1120\n",
       "4  1972-05-01    84.7636"
      ]
     },
     "execution_count": 2,
     "metadata": {},
     "output_type": "execute_result"
    }
   ],
   "source": [
    "# CODE HERE\n",
    "df = pd.read_csv('.../exercise-data.csv')\n",
    "df.head()"
   ]
  },
  {
   "cell_type": "code",
   "execution_count": 5,
   "metadata": {},
   "outputs": [
    {
     "data": {
      "text/html": [
       "<div>\n",
       "<style scoped>\n",
       "    .dataframe tbody tr th:only-of-type {\n",
       "        vertical-align: middle;\n",
       "    }\n",
       "\n",
       "    .dataframe tbody tr th {\n",
       "        vertical-align: top;\n",
       "    }\n",
       "\n",
       "    .dataframe thead th {\n",
       "        text-align: right;\n",
       "    }\n",
       "</style>\n",
       "<table border=\"1\" class=\"dataframe\">\n",
       "  <thead>\n",
       "    <tr style=\"text-align: right;\">\n",
       "      <th></th>\n",
       "      <th>production</th>\n",
       "    </tr>\n",
       "    <tr>\n",
       "      <th>date</th>\n",
       "      <th></th>\n",
       "    </tr>\n",
       "  </thead>\n",
       "  <tbody>\n",
       "    <tr>\n",
       "      <th>1972-01-01</th>\n",
       "      <td>59.9622</td>\n",
       "    </tr>\n",
       "    <tr>\n",
       "      <th>1972-02-01</th>\n",
       "      <td>67.0605</td>\n",
       "    </tr>\n",
       "    <tr>\n",
       "      <th>1972-03-01</th>\n",
       "      <td>74.2350</td>\n",
       "    </tr>\n",
       "    <tr>\n",
       "      <th>1972-04-01</th>\n",
       "      <td>78.1120</td>\n",
       "    </tr>\n",
       "    <tr>\n",
       "      <th>1972-05-01</th>\n",
       "      <td>84.7636</td>\n",
       "    </tr>\n",
       "  </tbody>\n",
       "</table>\n",
       "</div>"
      ],
      "text/plain": [
       "            production\n",
       "date                  \n",
       "1972-01-01     59.9622\n",
       "1972-02-01     67.0605\n",
       "1972-03-01     74.2350\n",
       "1972-04-01     78.1120\n",
       "1972-05-01     84.7636"
      ]
     },
     "execution_count": 5,
     "metadata": {},
     "output_type": "execute_result"
    }
   ],
   "source": [
    "df.rename(columns={'DATE':'date','IPN31152N':'production'},inplace=True)\n",
    "df.set_index('date',inplace=True)\n",
    "df.head()"
   ]
  },
  {
   "cell_type": "code",
   "execution_count": 7,
   "metadata": {},
   "outputs": [
    {
     "data": {
      "text/html": [
       "<div>\n",
       "<style scoped>\n",
       "    .dataframe tbody tr th:only-of-type {\n",
       "        vertical-align: middle;\n",
       "    }\n",
       "\n",
       "    .dataframe tbody tr th {\n",
       "        vertical-align: top;\n",
       "    }\n",
       "\n",
       "    .dataframe thead th {\n",
       "        text-align: right;\n",
       "    }\n",
       "</style>\n",
       "<table border=\"1\" class=\"dataframe\">\n",
       "  <thead>\n",
       "    <tr style=\"text-align: right;\">\n",
       "      <th></th>\n",
       "      <th>Production</th>\n",
       "    </tr>\n",
       "    <tr>\n",
       "      <th>DATE</th>\n",
       "      <th></th>\n",
       "    </tr>\n",
       "  </thead>\n",
       "  <tbody>\n",
       "    <tr>\n",
       "      <th>1972-01-01</th>\n",
       "      <td>59.9622</td>\n",
       "    </tr>\n",
       "    <tr>\n",
       "      <th>1972-02-01</th>\n",
       "      <td>67.0605</td>\n",
       "    </tr>\n",
       "    <tr>\n",
       "      <th>1972-03-01</th>\n",
       "      <td>74.2350</td>\n",
       "    </tr>\n",
       "    <tr>\n",
       "      <th>1972-04-01</th>\n",
       "      <td>78.1120</td>\n",
       "    </tr>\n",
       "    <tr>\n",
       "      <th>1972-05-01</th>\n",
       "      <td>84.7636</td>\n",
       "    </tr>\n",
       "  </tbody>\n",
       "</table>\n",
       "</div>"
      ],
      "text/plain": [
       "            Production\n",
       "DATE                  \n",
       "1972-01-01     59.9622\n",
       "1972-02-01     67.0605\n",
       "1972-03-01     74.2350\n",
       "1972-04-01     78.1120\n",
       "1972-05-01     84.7636"
      ]
     },
     "execution_count": 7,
     "metadata": {},
     "output_type": "execute_result"
    }
   ],
   "source": []
  },
  {
   "cell_type": "code",
   "execution_count": 9,
   "metadata": {},
   "outputs": [
    {
     "data": {
      "text/plain": [
       "<matplotlib.axes._subplots.AxesSubplot at 0x2167cf86b48>"
      ]
     },
     "execution_count": 9,
     "metadata": {},
     "output_type": "execute_result"
    },
    {
     "data": {
      "image/png": "[encoded data removed]",
      "text/plain": [
       "<Figure size 864x576 with 1 Axes>"
      ]
     },
     "metadata": {
      "needs_background": "light"
     },
     "output_type": "display_data"
    }
   ],
   "source": []
  },
  {
   "cell_type": "code",
   "execution_count": 9,
   "metadata": {},
   "outputs": [
    {
     "data": {
      "text/plain": [
       "576"
      ]
     },
     "execution_count": 9,
     "metadata": {},
     "output_type": "execute_result"
    }
   ],
   "source": [
    "#CODE HERE\n",
    "df.shape[0]"
   ]
  },
  {
   "cell_type": "code",
   "execution_count": 10,
   "metadata": {},
   "outputs": [],
   "source": [
    "df=df.iloc[:-3]"
   ]
  },
  {
   "cell_type": "code",
   "execution_count": 11,
   "metadata": {},
   "outputs": [
    {
     "data": {
      "text/plain": [
       "573"
      ]
     },
     "execution_count": 11,
     "metadata": {},
     "output_type": "execute_result"
    }
   ],
   "source": [
    "df.shape[0]"
   ]
  },
  {
   "cell_type": "code",
   "execution_count": 12,
   "metadata": {},
   "outputs": [],
   "source": [
    "train_df = df.iloc[:-24]\n",
    "test_df = df.iloc[-24:]"
   ]
  },
  {
   "cell_type": "code",
   "execution_count": 13,
   "metadata": {},
   "outputs": [],
   "source": [
    "from sklearn.preprocessing import MinMaxScaler"
   ]
  },
  {
   "cell_type": "code",
   "execution_count": 14,
   "metadata": {},
   "outputs": [],
   "source": [
    "scaler = MinMaxScaler()"
   ]
  },
  {
   "cell_type": "code",
   "execution_count": 15,
   "metadata": {},
   "outputs": [
    {
     "data": {
      "text/plain": [
       "MinMaxScaler(copy=True, feature_range=(0, 1))"
      ]
     },
     "execution_count": 15,
     "metadata": {},
     "output_type": "execute_result"
    }
   ],
   "source": [
    "scaler.fit(train_df)"
   ]
  },
  {
   "cell_type": "code",
   "execution_count": 17,
   "metadata": {},
   "outputs": [],
   "source": [
    "scaled_tr = scaler.transform(train_df)"
   ]
  },
  {
   "cell_type": "code",
   "execution_count": 18,
   "metadata": {},
   "outputs": [],
   "source": [
    "scaled_ts = scaler.transform(test_df)"
   ]
  },
  {
   "cell_type": "code",
   "execution_count": 19,
   "metadata": {},
   "outputs": [],
   "source": [
    "from tensorflow.keras.preprocessing.sequence import TimeseriesGenerator"
   ]
  },
  {
   "cell_type": "code",
   "execution_count": 20,
   "metadata": {},
   "outputs": [],
   "source": [
    "length = 18\n",
    "n_features = 1"
   ]
  },
  {
   "cell_type": "code",
   "execution_count": 21,
   "metadata": {},
   "outputs": [],
   "source": [
    "generator = TimeseriesGenerator(scaled_tr,scaled_tr,length=length,batch_size=1)"
   ]
  },
  {
   "cell_type": "code",
   "execution_count": 23,
   "metadata": {},
   "outputs": [],
   "source": []
  },
  {
   "cell_type": "code",
   "execution_count": 22,
   "metadata": {},
   "outputs": [],
   "source": [
    "from tensorflow.keras.models import Sequential\n",
    "from tensorflow.keras.layers import LSTM, Dense"
   ]
  },
  {
   "cell_type": "code",
   "execution_count": 24,
   "metadata": {},
   "outputs": [
    {
     "name": "stdout",
     "output_type": "stream",
     "text": [
      "WARNING:tensorflow:From C:\\Users\\VIVEK\\Anaconda3\\lib\\site-packages\\tensorflow_core\\python\\ops\\resource_variable_ops.py:1630: calling BaseResourceVariable.__init__ (from tensorflow.python.ops.resource_variable_ops) with constraint is deprecated and will be removed in a future version.\n",
      "Instructions for updating:\n",
      "If using Keras pass *_constraint arguments to layers.\n"
     ]
    }
   ],
   "source": [
    "model =  Sequential()\n",
    "\n",
    "model.add(LSTM(100,activation='relu',input_shape=(length,n_features)))\n",
    "model.add(Dense(1))\n",
    "\n",
    "model.compile(optimizer='adam',loss='mse')"
   ]
  },
  {
   "cell_type": "code",
   "execution_count": 25,
   "metadata": {},
   "outputs": [
    {
     "name": "stdout",
     "output_type": "stream",
     "text": [
      "Model: \"sequential_1\"\n",
      "_________________________________________________________________\n",
      "Layer (type)                 Output Shape              Param #   \n",
      "=================================================================\n",
      "lstm (LSTM)                  (None, 100)               40800     \n",
      "_________________________________________________________________\n",
      "dense (Dense)                (None, 1)                 101       \n",
      "=================================================================\n",
      "Total params: 40,901\n",
      "Trainable params: 40,901\n",
      "Non-trainable params: 0\n",
      "_________________________________________________________________\n"
     ]
    }
   ],
   "source": [
    "model.summary()"
   ]
  },
  {
   "cell_type": "code",
   "execution_count": 27,
   "metadata": {},
   "outputs": [],
   "source": [
    "validation_generator = TimeseriesGenerator(scaled_ts,scaled_ts,batch_size=1,length=length)"
   ]
  },
  {
   "cell_type": "code",
   "execution_count": 28,
   "metadata": {},
   "outputs": [],
   "source": [
    "from tensorflow.keras.callbacks import EarlyStopping"
   ]
  },
  {
   "cell_type": "code",
   "execution_count": 37,
   "metadata": {},
   "outputs": [],
   "source": [
    "early_stop = EarlyStopping(monitor='val-loss',patience=4)"
   ]
  },
  {
   "cell_type": "code",
   "execution_count": 31,
   "metadata": {},
   "outputs": [],
   "source": []
  },
  {
   "cell_type": "code",
   "execution_count": 38,
   "metadata": {
    "scrolled": true
   },
   "outputs": [
    {
     "name": "stdout",
     "output_type": "stream",
     "text": [
      "Epoch 1/20\n",
      "530/531 [============================>.] - ETA: 0s - loss: 0.0018Epoch 1/20\n",
      "  1/531 [..............................] - ETA: 3s - loss: 0.0023WARNING:tensorflow:Early stopping conditioned on metric `val-loss` which is not available. Available metrics are: loss,val_loss\n",
      "531/531 [==============================] - 14s 26ms/step - loss: 0.0018 - val_loss: 0.0032\n",
      "Epoch 2/20\n",
      "530/531 [============================>.] - ETA: 0s - loss: 0.0017Epoch 1/20\n",
      "  1/531 [..............................] - ETA: 3s - loss: 0.0026WARNING:tensorflow:Early stopping conditioned on metric `val-loss` which is not available. Available metrics are: loss,val_loss\n",
      "531/531 [==============================] - 14s 26ms/step - loss: 0.0017 - val_loss: 0.0043\n",
      "Epoch 3/20\n",
      "529/531 [============================>.] - ETA: 0s - loss: 0.0018- ETA: 0s - lEpoch 1/20\n",
      "  1/531 [..............................] - ETA: 4s - loss: 0.0018WARNING:tensorflow:Early stopping conditioned on metric `val-loss` which is not available. Available metrics are: loss,val_loss\n",
      "531/531 [==============================] - 14s 27ms/step - loss: 0.0018 - val_loss: 0.0033\n",
      "Epoch 4/20\n",
      "530/531 [============================>.] - ETA: 0s - loss: 0.0018Epoch 1/20\n",
      "  1/531 [..............................] - ETA: 3s - loss: 4.5649e-04WARNING:tensorflow:Early stopping conditioned on metric `val-loss` which is not available. Available metrics are: loss,val_loss\n",
      "531/531 [==============================] - 14s 26ms/step - loss: 0.0018 - val_loss: 0.0021\n",
      "Epoch 5/20\n",
      "530/531 [============================>.] - ETA: 0s - loss: 0.0017Epoch 1/20\n",
      "  1/531 [..............................] - ETA: 2s - loss: 6.4123e-04WARNING:tensorflow:Early stopping conditioned on metric `val-loss` which is not available. Available metrics are: loss,val_loss\n",
      "531/531 [==============================] - 13s 25ms/step - loss: 0.0017 - val_loss: 0.0032\n",
      "Epoch 6/20\n",
      "529/531 [============================>.] - ETA: 0s - loss: 0.0017Epoch 1/20\n",
      "  1/531 [..............................] - ETA: 4s - loss: 0.0015WARNING:tensorflow:Early stopping conditioned on metric `val-loss` which is not available. Available metrics are: loss,val_loss\n",
      "531/531 [==============================] - 15s 28ms/step - loss: 0.0017 - val_loss: 0.0037\n",
      "Epoch 7/20\n",
      "529/531 [============================>.] - ETA: 0s - loss: 0.0018Epoch 1/20\n",
      "  1/531 [..............................] - ETA: 2s - loss: 0.0012WARNING:tensorflow:Early stopping conditioned on metric `val-loss` which is not available. Available metrics are: loss,val_loss\n",
      "531/531 [==============================] - 14s 26ms/step - loss: 0.0018 - val_loss: 0.0032\n",
      "Epoch 8/20\n",
      "530/531 [============================>.] - ETA: 0s - loss: 0.0017Epoch 1/20\n",
      "  1/531 [..............................] - ETA: 2s - loss: 8.5546e-04WARNING:tensorflow:Early stopping conditioned on metric `val-loss` which is not available. Available metrics are: loss,val_loss\n",
      "531/531 [==============================] - 14s 26ms/step - loss: 0.0017 - val_loss: 0.0031\n",
      "Epoch 9/20\n",
      "530/531 [============================>.] - ETA: 0s - loss: 0.0017Epoch 1/20\n",
      "  1/531 [..............................] - ETA: 3s - loss: 4.1896e-04WARNING:tensorflow:Early stopping conditioned on metric `val-loss` which is not available. Available metrics are: loss,val_loss\n",
      "531/531 [==============================] - 12s 24ms/step - loss: 0.0017 - val_loss: 0.0022\n",
      "Epoch 10/20\n",
      "530/531 [============================>.] - ETA: 0s - loss: 0.0016Epoch 1/20\n",
      "  1/531 [..............................] - ETA: 4s - loss: 9.2477e-04WARNING:tensorflow:Early stopping conditioned on metric `val-loss` which is not available. Available metrics are: loss,val_loss\n",
      "531/531 [==============================] - 14s 27ms/step - loss: 0.0016 - val_loss: 0.0034\n",
      "Epoch 11/20\n",
      "530/531 [============================>.] - ETA: 0s - loss: 0.0017Epoch 1/20\n",
      "  1/531 [..............................] - ETA: 6s - loss: 0.0016WARNING:tensorflow:Early stopping conditioned on metric `val-loss` which is not available. Available metrics are: loss,val_loss\n",
      "531/531 [==============================] - 15s 28ms/step - loss: 0.0017 - val_loss: 0.0025\n",
      "Epoch 12/20\n",
      "529/531 [============================>.] - ETA: 0s - loss: 0.0016Epoch 1/20\n",
      "  1/531 [..............................] - ETA: 2s - loss: 7.8162e-04WARNING:tensorflow:Early stopping conditioned on metric `val-loss` which is not available. Available metrics are: loss,val_loss\n",
      "531/531 [==============================] - 16s 29ms/step - loss: 0.0016 - val_loss: 0.0033\n",
      "Epoch 13/20\n",
      "530/531 [============================>.] - ETA: 0s - loss: 0.0016Epoch 1/20\n",
      "  1/531 [..............................] - ETA: 4s - loss: 0.0016WARNING:tensorflow:Early stopping conditioned on metric `val-loss` which is not available. Available metrics are: loss,val_loss\n",
      "531/531 [==============================] - 14s 26ms/step - loss: 0.0016 - val_loss: 0.0027\n",
      "Epoch 14/20\n",
      "529/531 [============================>.] - ETA: 0s - loss: 0.0016Epoch 1/20\n",
      "  1/531 [..............................] - ETA: 5s - loss: 4.2213e-05WARNING:tensorflow:Early stopping conditioned on metric `val-loss` which is not available. Available metrics are: loss,val_loss\n",
      "531/531 [==============================] - 14s 26ms/step - loss: 0.0016 - val_loss: 0.0029\n",
      "Epoch 15/20\n",
      "529/531 [============================>.] - ETA: 0s - loss: 0.0015Epoch 1/20\n",
      "  1/531 [..............................] - ETA: 4s - loss: 0.0031WARNING:tensorflow:Early stopping conditioned on metric `val-loss` which is not available. Available metrics are: loss,val_loss\n",
      "531/531 [==============================] - 14s 26ms/step - loss: 0.0015 - val_loss: 0.0040\n",
      "Epoch 16/20\n",
      "530/531 [============================>.] - ETA: 0s - loss: 0.0015Epoch 1/20\n",
      "  1/531 [..............................] - ETA: 3s - loss: 1.8726e-04WARNING:tensorflow:Early stopping conditioned on metric `val-loss` which is not available. Available metrics are: loss,val_loss\n",
      "531/531 [==============================] - 14s 26ms/step - loss: 0.0015 - val_loss: 0.0022\n",
      "Epoch 17/20\n",
      "530/531 [============================>.] - ETA: 0s - loss: 0.0016Epoch 1/20\n",
      "  1/531 [..............................] - ETA: 4s - loss: 2.8835e-04WARNING:tensorflow:Early stopping conditioned on metric `val-loss` which is not available. Available metrics are: loss,val_loss\n",
      "531/531 [==============================] - 14s 26ms/step - loss: 0.0016 - val_loss: 0.0022\n",
      "Epoch 18/20\n",
      "530/531 [============================>.] - ETA: 0s - loss: 0.0014Epoch 1/20\n",
      "  1/531 [..............................] - ETA: 2s - loss: 0.0020WARNING:tensorflow:Early stopping conditioned on metric `val-loss` which is not available. Available metrics are: loss,val_loss\n",
      "531/531 [==============================] - 14s 26ms/step - loss: 0.0014 - val_loss: 0.0041\n",
      "Epoch 19/20\n",
      "530/531 [============================>.] - ETA: 0s - loss: 0.0014- ETA: 0s - loss: 0.Epoch 1/20\n",
      "  1/531 [..............................] - ETA: 4s - loss: 0.0026WARNING:tensorflow:Early stopping conditioned on metric `val-loss` which is not available. Available metrics are: loss,val_loss\n",
      "531/531 [==============================] - 14s 26ms/step - loss: 0.0014 - val_loss: 0.0074\n",
      "Epoch 20/20\n",
      "529/531 [============================>.] - ETA: 0s - loss: 0.0015Epoch 1/20\n",
      "  1/531 [..............................] - ETA: 3s - loss: 0.0021WARNING:tensorflow:Early stopping conditioned on metric `val-loss` which is not available. Available metrics are: loss,val_loss\n",
      "531/531 [==============================] - 14s 27ms/step - loss: 0.0015 - val_loss: 0.0040\n"
     ]
    },
    {
     "data": {
      "text/plain": [
       "<tensorflow.python.keras.callbacks.History at 0x1e160df1f60>"
      ]
     },
     "execution_count": 38,
     "metadata": {},
     "output_type": "execute_result"
    }
   ],
   "source": [
    "model.fit_generator(generator,epochs=20,validation_data=validation_generator, callbacks=[early_stop])"
   ]
  },
  {
   "cell_type": "code",
   "execution_count": 39,
   "metadata": {},
   "outputs": [
    {
     "data": {
      "text/plain": [
       "<matplotlib.axes._subplots.AxesSubplot at 0x1e160d832b0>"
      ]
     },
     "execution_count": 39,
     "metadata": {},
     "output_type": "execute_result"
    },
    {
     "data": {
      "image/png": "[encoded data removed]",
      "text/plain": [
       "<Figure size 432x288 with 1 Axes>"
      ]
     },
     "metadata": {
      "needs_background": "light"
     },
     "output_type": "display_data"
    }
   ],
   "source": [
    "pd.DataFrame(model.history.history).plot()"
   ]
  },
  {
   "cell_type": "code",
   "execution_count": 35,
   "metadata": {},
   "outputs": [
    {
     "data": {
      "text/plain": [
       "<matplotlib.axes._subplots.AxesSubplot at 0x21674f2d908>"
      ]
     },
     "execution_count": 35,
     "metadata": {},
     "output_type": "execute_result"
    },
    {
     "data": {
      "image/png": "[encoded data removed]",
      "text/plain": [
       "<Figure size 432x288 with 1 Axes>"
      ]
     },
     "metadata": {
      "needs_background": "light"
     },
     "output_type": "display_data"
    }
   ],
   "source": []
  },
  {
   "cell_type": "code",
   "execution_count": 48,
   "metadata": {},
   "outputs": [],
   "source": [
    "test_predictions=[]\n",
    "\n",
    "\n",
    "first_eval = scaled_tr[-length:]\n",
    "current_batch = first_eval.reshape((1,length,n_features))\n",
    "\n",
    "for i in range(len(test_df)):\n",
    "    current_pred = model.predict(current_batch)[0]\n",
    "    \n",
    "    test_predictions.append(current_pred)\n",
    "    \n",
    "    current_batch = np.append(current_batch[:,1:,:],[[current_pred]],axis=1)"
   ]
  },
  {
   "cell_type": "code",
   "execution_count": 49,
   "metadata": {},
   "outputs": [],
   "source": [
    "true_predictions = scaler.inverse_transform(test_predictions)"
   ]
  },
  {
   "cell_type": "code",
   "execution_count": 50,
   "metadata": {},
   "outputs": [
    {
     "data": {
      "text/plain": [
       "24"
      ]
     },
     "execution_count": 50,
     "metadata": {},
     "output_type": "execute_result"
    }
   ],
   "source": [
    "len(test_df)"
   ]
  },
  {
   "cell_type": "code",
   "execution_count": 51,
   "metadata": {},
   "outputs": [
    {
     "data": {
      "text/plain": [
       "24"
      ]
     },
     "execution_count": 51,
     "metadata": {},
     "output_type": "execute_result"
    }
   ],
   "source": [
    "len(true_predictions)"
   ]
  },
  {
   "cell_type": "code",
   "execution_count": 52,
   "metadata": {},
   "outputs": [
    {
     "name": "stderr",
     "output_type": "stream",
     "text": [
      "C:\\Users\\VIVEK\\Anaconda3\\lib\\site-packages\\ipykernel_launcher.py:1: SettingWithCopyWarning: \n",
      "A value is trying to be set on a copy of a slice from a DataFrame.\n",
      "Try using .loc[row_indexer,col_indexer] = value instead\n",
      "\n",
      "See the caveats in the documentation: http://pandas.pydata.org/pandas-docs/stable/indexing.html#indexing-view-versus-copy\n",
      "  \"\"\"Entry point for launching an IPython kernel.\n"
     ]
    },
    {
     "data": {
      "text/html": [
       "<div>\n",
       "<style scoped>\n",
       "    .dataframe tbody tr th:only-of-type {\n",
       "        vertical-align: middle;\n",
       "    }\n",
       "\n",
       "    .dataframe tbody tr th {\n",
       "        vertical-align: top;\n",
       "    }\n",
       "\n",
       "    .dataframe thead th {\n",
       "        text-align: right;\n",
       "    }\n",
       "</style>\n",
       "<table border=\"1\" class=\"dataframe\">\n",
       "  <thead>\n",
       "    <tr style=\"text-align: right;\">\n",
       "      <th></th>\n",
       "      <th>production</th>\n",
       "      <th>prediction</th>\n",
       "    </tr>\n",
       "    <tr>\n",
       "      <th>date</th>\n",
       "      <th></th>\n",
       "      <th></th>\n",
       "    </tr>\n",
       "  </thead>\n",
       "  <tbody>\n",
       "    <tr>\n",
       "      <th>2017-10-01</th>\n",
       "      <td>90.4732</td>\n",
       "      <td>90.896833</td>\n",
       "    </tr>\n",
       "    <tr>\n",
       "      <th>2017-11-01</th>\n",
       "      <td>77.4378</td>\n",
       "      <td>83.832925</td>\n",
       "    </tr>\n",
       "    <tr>\n",
       "      <th>2017-12-01</th>\n",
       "      <td>75.8118</td>\n",
       "      <td>86.153257</td>\n",
       "    </tr>\n",
       "    <tr>\n",
       "      <th>2018-01-01</th>\n",
       "      <td>83.4343</td>\n",
       "      <td>104.497608</td>\n",
       "    </tr>\n",
       "    <tr>\n",
       "      <th>2018-02-01</th>\n",
       "      <td>99.4899</td>\n",
       "      <td>117.792803</td>\n",
       "    </tr>\n",
       "    <tr>\n",
       "      <th>2018-03-01</th>\n",
       "      <td>107.3152</td>\n",
       "      <td>126.395528</td>\n",
       "    </tr>\n",
       "    <tr>\n",
       "      <th>2018-04-01</th>\n",
       "      <td>112.4309</td>\n",
       "      <td>133.705489</td>\n",
       "    </tr>\n",
       "    <tr>\n",
       "      <th>2018-05-01</th>\n",
       "      <td>110.3544</td>\n",
       "      <td>143.515103</td>\n",
       "    </tr>\n",
       "    <tr>\n",
       "      <th>2018-06-01</th>\n",
       "      <td>124.5841</td>\n",
       "      <td>147.195694</td>\n",
       "    </tr>\n",
       "    <tr>\n",
       "      <th>2018-07-01</th>\n",
       "      <td>117.2215</td>\n",
       "      <td>140.487451</td>\n",
       "    </tr>\n",
       "    <tr>\n",
       "      <th>2018-08-01</th>\n",
       "      <td>112.6779</td>\n",
       "      <td>130.481778</td>\n",
       "    </tr>\n",
       "    <tr>\n",
       "      <th>2018-09-01</th>\n",
       "      <td>103.3118</td>\n",
       "      <td>118.495043</td>\n",
       "    </tr>\n",
       "    <tr>\n",
       "      <th>2018-10-01</th>\n",
       "      <td>92.1321</td>\n",
       "      <td>106.777751</td>\n",
       "    </tr>\n",
       "    <tr>\n",
       "      <th>2018-11-01</th>\n",
       "      <td>82.4347</td>\n",
       "      <td>98.260810</td>\n",
       "    </tr>\n",
       "    <tr>\n",
       "      <th>2018-12-01</th>\n",
       "      <td>76.7608</td>\n",
       "      <td>111.430606</td>\n",
       "    </tr>\n",
       "    <tr>\n",
       "      <th>2019-01-01</th>\n",
       "      <td>86.9988</td>\n",
       "      <td>132.941480</td>\n",
       "    </tr>\n",
       "    <tr>\n",
       "      <th>2019-02-01</th>\n",
       "      <td>98.1116</td>\n",
       "      <td>150.343564</td>\n",
       "    </tr>\n",
       "    <tr>\n",
       "      <th>2019-03-01</th>\n",
       "      <td>116.1718</td>\n",
       "      <td>162.249662</td>\n",
       "    </tr>\n",
       "    <tr>\n",
       "      <th>2019-04-01</th>\n",
       "      <td>114.9703</td>\n",
       "      <td>171.368666</td>\n",
       "    </tr>\n",
       "    <tr>\n",
       "      <th>2019-05-01</th>\n",
       "      <td>114.5613</td>\n",
       "      <td>183.766314</td>\n",
       "    </tr>\n",
       "    <tr>\n",
       "      <th>2019-06-01</th>\n",
       "      <td>124.9605</td>\n",
       "      <td>189.533701</td>\n",
       "    </tr>\n",
       "    <tr>\n",
       "      <th>2019-07-01</th>\n",
       "      <td>110.2632</td>\n",
       "      <td>181.671904</td>\n",
       "    </tr>\n",
       "    <tr>\n",
       "      <th>2019-08-01</th>\n",
       "      <td>102.6085</td>\n",
       "      <td>168.550884</td>\n",
       "    </tr>\n",
       "    <tr>\n",
       "      <th>2019-09-01</th>\n",
       "      <td>100.1741</td>\n",
       "      <td>153.001006</td>\n",
       "    </tr>\n",
       "  </tbody>\n",
       "</table>\n",
       "</div>"
      ],
      "text/plain": [
       "            production  prediction\n",
       "date                              \n",
       "2017-10-01     90.4732   90.896833\n",
       "2017-11-01     77.4378   83.832925\n",
       "2017-12-01     75.8118   86.153257\n",
       "2018-01-01     83.4343  104.497608\n",
       "2018-02-01     99.4899  117.792803\n",
       "2018-03-01    107.3152  126.395528\n",
       "2018-04-01    112.4309  133.705489\n",
       "2018-05-01    110.3544  143.515103\n",
       "2018-06-01    124.5841  147.195694\n",
       "2018-07-01    117.2215  140.487451\n",
       "2018-08-01    112.6779  130.481778\n",
       "2018-09-01    103.3118  118.495043\n",
       "2018-10-01     92.1321  106.777751\n",
       "2018-11-01     82.4347   98.260810\n",
       "2018-12-01     76.7608  111.430606\n",
       "2019-01-01     86.9988  132.941480\n",
       "2019-02-01     98.1116  150.343564\n",
       "2019-03-01    116.1718  162.249662\n",
       "2019-04-01    114.9703  171.368666\n",
       "2019-05-01    114.5613  183.766314\n",
       "2019-06-01    124.9605  189.533701\n",
       "2019-07-01    110.2632  181.671904\n",
       "2019-08-01    102.6085  168.550884\n",
       "2019-09-01    100.1741  153.001006"
      ]
     },
     "execution_count": 52,
     "metadata": {},
     "output_type": "execute_result"
    }
   ],
   "source": [
    "test_df['prediction'] = true_predictions\n",
    "test_df"
   ]
  },
  {
   "cell_type": "code",
   "execution_count": 53,
   "metadata": {},
   "outputs": [
    {
     "data": {
      "text/plain": [
       "<matplotlib.axes._subplots.AxesSubplot at 0x1e15f31f438>"
      ]
     },
     "execution_count": 53,
     "metadata": {},
     "output_type": "execute_result"
    },
    {
     "data": {
      "image/png": "[encoded data removed]",
      "text/plain": [
       "<Figure size 432x288 with 1 Axes>"
      ]
     },
     "metadata": {
      "needs_background": "light"
     },
     "output_type": "display_data"
    }
   ],
   "source": [
    "test_df.plot()"
   ]
  }
 ],
 "metadata": {
  "kernelspec": {
   "display_name": "Python 3",
   "language": "python",
   "name": "python3"
  },
  "language_info": {
   "codemirror_mode": {
    "name": "ipython",
    "version": 3
   },
   "file_extension": ".py",
   "mimetype": "text/x-python",
   "name": "python",
   "nbconvert_exporter": "python",
   "pygments_lexer": "ipython3",
   "version": "3.7.3"
  }
 },
 "nbformat": 4,
 "nbformat_minor": 2
}
